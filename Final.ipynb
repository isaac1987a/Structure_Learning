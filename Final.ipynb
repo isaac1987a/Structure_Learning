{
 "cells": [
  {
   "cell_type": "code",
   "execution_count": 189,
   "metadata": {
    "collapsed": false,
    "jupyter": {
     "outputs_hidden": false
    }
   },
   "outputs": [],
   "source": [
    "import pandas as pd\n",
    "import seaborn as sb\n",
    "import numpy as np\n",
    "from sklearn.ensemble import RandomForestRegressor\n",
    "import sklearn\n",
    "import statsmodels.api as sm\n",
    "from sklearn.linear_model import LinearRegression\n",
    "from sklearn.feature_selection import RFE\n",
    "from sklearn.neighbors import KNeighborsClassifier as KNN\n",
    "from sklearn.preprocessing import StandardScaler\n",
    "import matplotlib.pyplot as plt\n",
    "import warnings\n",
    "warnings.simplefilter(action='ignore', category=FutureWarning)"
   ]
  },
  {
   "cell_type": "code",
   "execution_count": 190,
   "metadata": {
    "collapsed": false,
    "jupyter": {
     "outputs_hidden": false
    }
   },
   "outputs": [
    {
     "data": {
      "text/html": [
       "<div>\n",
       "<style scoped>\n",
       "    .dataframe tbody tr th:only-of-type {\n",
       "        vertical-align: middle;\n",
       "    }\n",
       "\n",
       "    .dataframe tbody tr th {\n",
       "        vertical-align: top;\n",
       "    }\n",
       "\n",
       "    .dataframe thead th {\n",
       "        text-align: right;\n",
       "    }\n",
       "</style>\n",
       "<table border=\"1\" class=\"dataframe\">\n",
       "  <thead>\n",
       "    <tr style=\"text-align: right;\">\n",
       "      <th></th>\n",
       "      <th>Player</th>\n",
       "      <th>Tm</th>\n",
       "      <th>Age</th>\n",
       "      <th>G</th>\n",
       "      <th>GS</th>\n",
       "      <th>MP</th>\n",
       "      <th>FG</th>\n",
       "      <th>FGA</th>\n",
       "      <th>FG%</th>\n",
       "      <th>3P</th>\n",
       "      <th>...</th>\n",
       "      <th>FT%</th>\n",
       "      <th>ORB</th>\n",
       "      <th>DRB</th>\n",
       "      <th>TRB</th>\n",
       "      <th>AST</th>\n",
       "      <th>STL</th>\n",
       "      <th>BLK</th>\n",
       "      <th>TOV</th>\n",
       "      <th>PF</th>\n",
       "      <th>PTS</th>\n",
       "    </tr>\n",
       "  </thead>\n",
       "  <tbody>\n",
       "    <tr>\n",
       "      <th>0</th>\n",
       "      <td>Efe Abogidi</td>\n",
       "      <td>GLI</td>\n",
       "      <td>28.0</td>\n",
       "      <td>4</td>\n",
       "      <td>0</td>\n",
       "      <td>48</td>\n",
       "      <td>6</td>\n",
       "      <td>14</td>\n",
       "      <td>0.429</td>\n",
       "      <td>0</td>\n",
       "      <td>...</td>\n",
       "      <td>0.000</td>\n",
       "      <td>3</td>\n",
       "      <td>10</td>\n",
       "      <td>13</td>\n",
       "      <td>4</td>\n",
       "      <td>0</td>\n",
       "      <td>0</td>\n",
       "      <td>3</td>\n",
       "      <td>10</td>\n",
       "      <td>12</td>\n",
       "    </tr>\n",
       "    <tr>\n",
       "      <th>1</th>\n",
       "      <td>Jalen Adaway</td>\n",
       "      <td>AUS</td>\n",
       "      <td>27.0</td>\n",
       "      <td>11</td>\n",
       "      <td>2</td>\n",
       "      <td>234</td>\n",
       "      <td>26</td>\n",
       "      <td>61</td>\n",
       "      <td>0.426</td>\n",
       "      <td>7</td>\n",
       "      <td>...</td>\n",
       "      <td>0.429</td>\n",
       "      <td>7</td>\n",
       "      <td>16</td>\n",
       "      <td>23</td>\n",
       "      <td>11</td>\n",
       "      <td>4</td>\n",
       "      <td>4</td>\n",
       "      <td>3</td>\n",
       "      <td>16</td>\n",
       "      <td>63</td>\n",
       "    </tr>\n",
       "    <tr>\n",
       "      <th>2</th>\n",
       "      <td>James Akinjo</td>\n",
       "      <td>WES</td>\n",
       "      <td>31.0</td>\n",
       "      <td>15</td>\n",
       "      <td>5</td>\n",
       "      <td>448</td>\n",
       "      <td>90</td>\n",
       "      <td>195</td>\n",
       "      <td>0.462</td>\n",
       "      <td>28</td>\n",
       "      <td>...</td>\n",
       "      <td>0.800</td>\n",
       "      <td>4</td>\n",
       "      <td>46</td>\n",
       "      <td>50</td>\n",
       "      <td>101</td>\n",
       "      <td>20</td>\n",
       "      <td>0</td>\n",
       "      <td>34</td>\n",
       "      <td>30</td>\n",
       "      <td>232</td>\n",
       "    </tr>\n",
       "    <tr>\n",
       "      <th>3</th>\n",
       "      <td>Warith Alatishe</td>\n",
       "      <td>ONT</td>\n",
       "      <td>25.0</td>\n",
       "      <td>14</td>\n",
       "      <td>7</td>\n",
       "      <td>337</td>\n",
       "      <td>48</td>\n",
       "      <td>78</td>\n",
       "      <td>0.615</td>\n",
       "      <td>0</td>\n",
       "      <td>...</td>\n",
       "      <td>0.556</td>\n",
       "      <td>47</td>\n",
       "      <td>57</td>\n",
       "      <td>104</td>\n",
       "      <td>14</td>\n",
       "      <td>16</td>\n",
       "      <td>28</td>\n",
       "      <td>12</td>\n",
       "      <td>47</td>\n",
       "      <td>102</td>\n",
       "    </tr>\n",
       "    <tr>\n",
       "      <th>4</th>\n",
       "      <td>Ty-Shon Alexander</td>\n",
       "      <td>GBO</td>\n",
       "      <td>24.0</td>\n",
       "      <td>16</td>\n",
       "      <td>0</td>\n",
       "      <td>257</td>\n",
       "      <td>39</td>\n",
       "      <td>77</td>\n",
       "      <td>0.506</td>\n",
       "      <td>27</td>\n",
       "      <td>...</td>\n",
       "      <td>1.000</td>\n",
       "      <td>2</td>\n",
       "      <td>29</td>\n",
       "      <td>31</td>\n",
       "      <td>23</td>\n",
       "      <td>5</td>\n",
       "      <td>3</td>\n",
       "      <td>17</td>\n",
       "      <td>10</td>\n",
       "      <td>112</td>\n",
       "    </tr>\n",
       "  </tbody>\n",
       "</table>\n",
       "<p>5 rows × 28 columns</p>\n",
       "</div>"
      ],
      "text/plain": [
       "              Player   Tm   Age   G  GS   MP  FG  FGA    FG%  3P  ...    FT%  \\\n",
       "0        Efe Abogidi  GLI  28.0   4   0   48   6   14  0.429   0  ...  0.000   \n",
       "1       Jalen Adaway  AUS  27.0  11   2  234  26   61  0.426   7  ...  0.429   \n",
       "2       James Akinjo  WES  31.0  15   5  448  90  195  0.462  28  ...  0.800   \n",
       "3    Warith Alatishe  ONT  25.0  14   7  337  48   78  0.615   0  ...  0.556   \n",
       "4  Ty-Shon Alexander  GBO  24.0  16   0  257  39   77  0.506  27  ...  1.000   \n",
       "\n",
       "   ORB  DRB  TRB  AST  STL  BLK  TOV  PF  PTS  \n",
       "0    3   10   13    4    0    0    3  10   12  \n",
       "1    7   16   23   11    4    4    3  16   63  \n",
       "2    4   46   50  101   20    0   34  30  232  \n",
       "3   47   57  104   14   16   28   12  47  102  \n",
       "4    2   29   31   23    5    3   17  10  112  \n",
       "\n",
       "[5 rows x 28 columns]"
      ]
     },
     "execution_count": 190,
     "metadata": {},
     "output_type": "execute_result"
    }
   ],
   "source": [
    "import pandas as pd\n",
    "#load Data Source https://www.kaggle.com/datasets/rayhan32/nba-player-status-2003-2023-23k-data?select=NBA+player+status+fro+2003-2023.csv\n",
    "\"\"\"\n",
    "Column Description\n",
    "Tm-Team\n",
    "Age-Age\n",
    "G-Game\n",
    "GS-Game started\n",
    "MP-Minutes played\n",
    "FG-Field Goals\n",
    "FGA-Field Goals Attempts\n",
    "FG%- Field Goal Percentage\n",
    "3P- 3-Point Field Goal\n",
    "3PA-3-Point Field Goal Attempts\n",
    "3P%-3-Point Field Goal Attempts Percentage\n",
    "2P-2-Point Field Goal\n",
    "2PA-2-Point Field Goal Attempts\n",
    "2P%-3-Point Field Goal Attempts Percentage\n",
    "eFG%-effective field goal percentage (these statistics adjust for the fact that a 3-point field goal is worth one more point than a 2-point goal)\n",
    "FT-Free Throws\n",
    "FTA-Free Thrown Attempts\n",
    "FT%-Free Throwns Attempts Percentage\n",
    "ORB-Offensive Rebounds\n",
    "DRB-Defensive Rebounds\n",
    "TRB-Total Rebounds\n",
    "AST-Assists\n",
    "STL-Steals\n",
    "BLK-Blocks\n",
    "TOV-Turnovers\n",
    "PF-Personal Fouls\n",
    "PTS-Points\"\"\"\n",
    "df = pd.read_csv(\"https://raw.githubusercontent.com/isaac1987a/Structure_Learning/main/NBA%20player%20status%20fro%202003-2023(1).csv\", sep=',', engine='python', \n",
    "header=0, encoding='cp1252')\n",
    "df.head()\n",
    "\n"
   ]
  },
  {
   "cell_type": "code",
   "execution_count": 191,
   "metadata": {
    "collapsed": false,
    "jupyter": {
     "outputs_hidden": false
    }
   },
   "outputs": [
    {
     "name": "stdout",
     "output_type": "stream",
     "text": [
      "Index(['Player', 'Tm', 'Age', 'G', 'GS', 'MP', 'FG', 'FGA', 'FGP', '3P', '3PA',\n",
      "       '3PP', '2P', '2PA', '2PP', 'eFGP', 'FT', 'FTA', 'FTP', 'ORB', 'DRB',\n",
      "       'TRB', 'AST', 'STL', 'BLK', 'TOV', 'PF', 'PTS'],\n",
      "      dtype='object')\n",
      "Age: 170 0.07154882154882154\n",
      "FGP: 66 0.027777777777777776\n",
      "3PP: 438 0.18434343434343434\n",
      "2PP: 97 0.040824915824915826\n",
      "eFGP: 66 0.027777777777777776\n",
      "FTP: 357 0.15025252525252525\n"
     ]
    }
   ],
   "source": [
    "#Started by renaming Columns\n",
    "df = df.rename(columns = {'FG%': 'FGP', '3P%': '3PP', '2P%': '2PP', 'FT%': 'FTP', 'eFG%': 'eFGP'})\n",
    "print(df.columns)\n",
    "#Id Nulls, #True is greater than 5% of data missing that item\n",
    "def FindNulls(df2):\n",
    "    nulls = []\n",
    "    for col in df2.columns:\n",
    "        if df2[col].isna().sum() > 0:\n",
    "            nulls.append(col + \": \" + str(df2[col].isna().sum()) + \" \" + str(df2[col].isna().sum()/len(df2)))\n",
    "    for null in nulls:\n",
    "        print(null)\n",
    "\n",
    "FindNulls(df)\n",
    "\n",
    "\n",
    "\n",
    "\n",
    "\n"
   ]
  },
  {
   "cell_type": "markdown",
   "metadata": {},
   "source": [
    "Key point, I selected this dataset at random, and I seem to have chosen poorly.  This dataset has a few very coorlated predictors making for very coorlated models.  \n",
    "\n",
    "EDA Procedure.  I started with finding all the Nulls.  This had 6 columns of Nulls.  5 of them were percentages of shots made.  After doing a bit of coorlation, I was able to determine that all of those fields matched up with the fact that they had taken 0 of those types of shots.  I then set the empty values to 0.\n",
    "\n",
    "I then ran a Coorlation Matrix and PairPlot.  There were several features that had almost no coorlations and Age had none.  A few had very strong and linear coorlations.\n",
    "\n",
    "For the Age Column, for all but the prediction on the age, I just deleted the column as it had no coorlation to any other column from the pairplot.\n",
    "\n",
    "For choosing the modeling methods, I started by using the Random Forrest to find the most important features.  I paired down the ones that were too much of a match (Who thought that there was a strong coorlation between shots taken and goals), and then did a prediction from the tree and got 97%% accuracy.  After that I used the top predictor to do a Linear regression and got a 78% accuracy.  Afterwards I used reverse stepwise regression and with 8 predictors got a 99.1% accuracy.  Finally I did a KNN which got less than 20% accuracy in most cases.\n"
   ]
  },
  {
   "cell_type": "code",
   "execution_count": 192,
   "metadata": {
    "collapsed": false,
    "jupyter": {
     "outputs_hidden": false
    },
    "scrolled": true
   },
   "outputs": [
    {
     "name": "stdout",
     "output_type": "stream",
     "text": [
      "len FTP is NA: 357\n",
      "len FTA is 0: 359\n",
      "len FTP is NA and FTA is 0: 357\n",
      "1616\n",
      "Age: 170 0.07154882154882154\n",
      "               Age            G           GS           MP           FG  \\\n",
      "count  2206.000000  2376.000000  2376.000000  2376.000000  2376.000000   \n",
      "mean     24.754306     9.294613     4.725589   228.430135    39.334596   \n",
      "std       3.079508    11.112549     7.700911   294.038328    55.037905   \n",
      "min       1.000000     1.000000     0.000000     0.000000     0.000000   \n",
      "25%      23.000000     2.000000     0.000000    36.000000     5.000000   \n",
      "50%      24.000000     4.000000     1.000000    90.500000    14.000000   \n",
      "75%      26.000000    14.000000     6.000000   313.000000    51.000000   \n",
      "max      39.000000    44.000000    42.000000  1518.000000   321.000000   \n",
      "\n",
      "               FGA          FGP           3P          3PA          3PP  ...  \\\n",
      "count  2376.000000  2376.000000  2376.000000  2376.000000  2376.000000  ...   \n",
      "mean     84.282828     0.437917    11.143098    31.768098     0.251354  ...   \n",
      "std     117.033703     0.171322    19.957295    53.749255     0.214085  ...   \n",
      "min       0.000000     0.000000     0.000000     0.000000     0.000000  ...   \n",
      "25%      11.750000     0.380750     0.000000     1.000000     0.000000  ...   \n",
      "50%      30.000000     0.452000     3.000000     8.000000     0.290500  ...   \n",
      "75%     109.000000     0.519250    12.000000    36.000000     0.382000  ...   \n",
      "max     715.000000     1.000000   152.000000   382.000000     1.000000  ...   \n",
      "\n",
      "               FTP          ORB          DRB          TRB          AST  \\\n",
      "count  2376.000000  2376.000000  2376.000000  2376.000000  2376.000000   \n",
      "mean      0.616228    11.023990    31.759259    42.783249    22.571970   \n",
      "std       0.326901    18.196305    44.948580    61.173463    38.096662   \n",
      "min       0.000000     0.000000     0.000000     0.000000     0.000000   \n",
      "25%       0.500000     1.000000     4.000000     6.000000     2.000000   \n",
      "50%       0.714000     4.000000    12.000000    16.000000     7.000000   \n",
      "75%       0.840250    13.000000    40.000000    54.000000    26.000000   \n",
      "max       1.000000   170.000000   339.000000   509.000000   325.000000   \n",
      "\n",
      "               STL          BLK          TOV           PF          PTS  \n",
      "count  2376.000000  2376.000000  2376.000000  2376.000000  2376.000000  \n",
      "mean      8.478956     4.859007    15.160774    19.760943   106.952862  \n",
      "std      12.283612     9.126151    21.986681    25.851774   149.569339  \n",
      "min       0.000000     0.000000     0.000000     0.000000     0.000000  \n",
      "25%       1.000000     0.000000     2.000000     3.000000    13.000000  \n",
      "50%       4.000000     2.000000     6.000000     8.000000    38.000000  \n",
      "75%      10.000000     5.000000    19.250000    27.000000   135.250000  \n",
      "max      96.000000   136.000000   152.000000   149.000000   831.000000  \n",
      "\n",
      "[8 rows x 26 columns]\n"
     ]
    }
   ],
   "source": [
    "print(\"len FTP is NA: \" + str(len(df.query('FTP.isna()'))))\n",
    "print(\"len FTA is 0: \" + str(len(df.query('FTA == 0'))))\n",
    "print(\"len FTP is NA and FTA is 0: \" + str(len(df.query('FTA == 0 and FTP.isna()'))))\n",
    "\n",
    "\n",
    "#Ok, so I was able to determine that alot of the empty percentages are from people who shot not shots.  Backfill with 0.\n",
    "df['FTP'] = df['FTP'].mask(df['FTA'] == 0 & df['FTP'].isna(), other = 0)\n",
    "df['2PP'] = df['2PP'].mask(df['2PA'] == 0 & df['2PP'].isna(), other = 0)\n",
    "df['3PP'] = df['3PP'].mask(df['3PA'] == 0 & df['3PP'].isna(), other = 0)\n",
    "df['FGP'] = df['FGP'].mask(df['FGP'].isna(), other = 0)\n",
    "df['eFGP'] = df['eFGP'].mask(df['FGA'] == 0 & df['eFGP'].isna(), other = 0)\n",
    "print(sum(df['3PP'] > 0))\n",
    "FindNulls(df)\n",
    "print(df.describe())"
   ]
  },
  {
   "cell_type": "markdown",
   "metadata": {},
   "source": [
    "A marked improvement.   That leaves age, which can be selectively deleted or replaced depending on the research desired.\n",
    "\n",
    "Next is a pairplot and a coorplot.\n"
   ]
  },
  {
   "cell_type": "code",
   "execution_count": 193,
   "metadata": {
    "collapsed": false,
    "jupyter": {
     "outputs_hidden": false
    }
   },
   "outputs": [
    {
     "data": {
      "text/plain": [
       "<AxesSubplot: >"
      ]
     },
     "execution_count": 193,
     "metadata": {},
     "output_type": "execute_result"
    },
    {
     "data": {
      "image/png": "[encoded data removed]",
      "text/plain": [
       "<Figure size 640x480 with 2 Axes>"
      ]
     },
     "metadata": {},
     "output_type": "display_data"
    }
   ],
   "source": [
    "corr = df.corr(numeric_only = True)\n",
    "mask = np.triu(np.ones_like(corr, dtype=bool))\n",
    "sb.heatmap(corr, mask = mask)"
   ]
  },
  {
   "cell_type": "markdown",
   "metadata": {},
   "source": [
    "It is quite supprising that age has no relation to anything else.  The same goes for the shot sink percentages.  I'll be looking at those later.  Most of the other values are fairly coorlated.  \n"
   ]
  },
  {
   "cell_type": "code",
   "execution_count": 194,
   "metadata": {
    "collapsed": false,
    "jupyter": {
     "outputs_hidden": false
    },
    "scrolled": true
   },
   "outputs": [],
   "source": [
    "#display(sb.pairplot(df))"
   ]
  },
  {
   "cell_type": "markdown",
   "metadata": {},
   "source": [
    "Seaborn Pair Plot Results.  This algorhtim takes a while to run and has a known bug on some computers so I have provided a github link to it.\n",
    "\n",
    "[Picture link](https://github.com/isaac1987a/Structure_Learning/raw/main/Final_Pairplot.png)\n",
    "\n",
    "It is pretty intresting in that there are some very tightly coorlated variables(Diagionals), some variables with a large variance(Loose but directional), and some that have no coorlation(vertical and horisontal bars).  I did not see anything that would be exponential or would expect to have a curving regression."
   ]
  },
  {
   "cell_type": "markdown",
   "metadata": {},
   "source": [
    "\n",
    "\n"
   ]
  },
  {
   "cell_type": "markdown",
   "metadata": {},
   "source": [
    "My goal is to try to show what factors make the most points as points win games.  To start with, I'm gating to build a random forest to see what correlates to points.\n"
   ]
  },
  {
   "cell_type": "code",
   "execution_count": 195,
   "metadata": {
    "collapsed": false,
    "jupyter": {
     "outputs_hidden": false
    }
   },
   "outputs": [
    {
     "data": {
      "text/plain": [
       "<AxesSubplot: >"
      ]
     },
     "execution_count": 195,
     "metadata": {},
     "output_type": "execute_result"
    },
    {
     "data": {
      "image/png": "[encoded data removed]",
      "text/plain": [
       "<Figure size 640x480 with 1 Axes>"
      ]
     },
     "metadata": {},
     "output_type": "display_data"
    }
   ],
   "source": [
    "X = df2.drop(['PTS','Player', 'Tm', 'Age'] , axis = 1)\n",
    "y = df2['PTS']\n",
    "\n",
    "model = RandomForestRegressor(n_estimators=250, min_samples_split=20).fit(X,y)\n",
    "sb.barplot(y = model.feature_names_in_ , x = model.feature_importances_)"
   ]
  },
  {
   "cell_type": "markdown",
   "metadata": {},
   "source": [
    "So according to the Google, \"In basketball, a field goal is any shot taken from the court during play.\"  Color me surprised, taking shots results in goals.  Next, i'm going to redo this while removing field goals.\n"
   ]
  },
  {
   "cell_type": "code",
   "execution_count": 196,
   "metadata": {
    "collapsed": false,
    "jupyter": {
     "outputs_hidden": false
    }
   },
   "outputs": [
    {
     "data": {
      "text/plain": [
       "<AxesSubplot: >"
      ]
     },
     "execution_count": 196,
     "metadata": {},
     "output_type": "execute_result"
    },
    {
     "data": {
      "image/png": "[encoded data removed]",
      "text/plain": [
       "<Figure size 640x480 with 1 Axes>"
      ]
     },
     "metadata": {},
     "output_type": "display_data"
    }
   ],
   "source": [
    "X = X.drop(['FG', 'FGA'], axis = 1)\n",
    "model = RandomForestRegressor(n_estimators=250, min_samples_split=20).fit(X,y)\n",
    "sb.barplot(y = model.feature_names_in_ , x = model.feature_importances_)"
   ]
  },
  {
   "cell_type": "markdown",
   "metadata": {},
   "source": [
    "It is another unsuprising result.  The more time a player has on the field, the more points he scores.  I'm going to remove this column as well.\n",
    "\n"
   ]
  },
  {
   "cell_type": "code",
   "execution_count": 197,
   "metadata": {
    "collapsed": false,
    "jupyter": {
     "outputs_hidden": false
    }
   },
   "outputs": [
    {
     "data": {
      "text/plain": [
       "<AxesSubplot: >"
      ]
     },
     "execution_count": 197,
     "metadata": {},
     "output_type": "execute_result"
    },
    {
     "data": {
      "image/png": "[encoded data removed]",
      "text/plain": [
       "<Figure size 640x480 with 1 Axes>"
      ]
     },
     "metadata": {},
     "output_type": "display_data"
    }
   ],
   "source": [
    "X = X.drop(['MP'], axis = 1)\n",
    "model = RandomForestRegressor(n_estimators=250, min_samples_split=20).fit(X,y)\n",
    "sb.barplot(y = model.feature_names_in_ , x = model.feature_importances_)"
   ]
  },
  {
   "cell_type": "markdown",
   "metadata": {},
   "source": [
    "I'm going to stop with variable paring down here as this chart is just the one above with more detail.  All of the variables about taking shots relate to making points.  The only one that is surprising is turnovers, but that might just be a cross coloration with time.   With this, I'll run this random forest to try and get a useful model. I will use the Sklearn Cross validation model instead of train/test/split.\n"
   ]
  },
  {
   "cell_type": "code",
   "execution_count": 198,
   "metadata": {
    "collapsed": false,
    "jupyter": {
     "outputs_hidden": false
    }
   },
   "outputs": [
    {
     "name": "stdout",
     "output_type": "stream",
     "text": [
      "3 way cross validation test error: 0.9720752444829387\n"
     ]
    }
   ],
   "source": [
    "nfd = sklearn.model_selection.cross_validate(model, X, y = y, cv = 3)\n",
    "#print(nfd)\n",
    "print(\"3 way cross validation test error: \" + str(np.mean(nfd['test_score'])))\n",
    "nfd = None"
   ]
  },
  {
   "cell_type": "markdown",
   "metadata": {},
   "source": [
    "97.1%.  That's a great test error.  This model seems to be very accurate.  I'm not going to print out the tree for this as it doesn't add any thing to the data.\n"
   ]
  },
  {
   "cell_type": "markdown",
   "metadata": {},
   "source": [
    "I'm going to stop with variable paring down here as this chart is just the one above with more detail.  All of the variables about taking shots relate to making points.  The only one that is suprising is turnovers, but that might just be a cross coorlation with time.  The last thing I wan to see is what if any variables can be used to predict age.  \n"
   ]
  },
  {
   "cell_type": "code",
   "execution_count": 199,
   "metadata": {
    "collapsed": false,
    "jupyter": {
     "outputs_hidden": false
    }
   },
   "outputs": [
    {
     "data": {
      "text/plain": [
       "<AxesSubplot: >"
      ]
     },
     "execution_count": 199,
     "metadata": {},
     "output_type": "execute_result"
    },
    {
     "data": {
      "image/png": "[encoded data removed]",
      "text/plain": [
       "<Figure size 640x480 with 1 Axes>"
      ]
     },
     "metadata": {},
     "output_type": "display_data"
    }
   ],
   "source": [
    "df2 = df[df['Age'].isnull() == False]\n",
    "X = df2.drop(['Age','Player', 'Tm'] , axis = 1)\n",
    "y = df2['Age']\n",
    "model = RandomForestRegressor(n_estimators=250, min_samples_split=20).fit(X,y)\n",
    "sb.barplot(y = model.feature_names_in_ , x = model.feature_importances_)\n"
   ]
  },
  {
   "cell_type": "markdown",
   "metadata": {},
   "source": [
    "It's unsurprising that the only good predictor for age is time on the field.  Teams will likely retain the better players and put them on the court more often, so that is expected.  \n",
    "\n",
    "Next I decided to try some linear regressors.  I will not be doing any higher order polynomial regression as I didn't see any indication of that during the pairplot.  I will start with just using the 2 point attempts for a single regressor.\n"
   ]
  },
  {
   "cell_type": "code",
   "execution_count": 200,
   "metadata": {
    "collapsed": false,
    "jupyter": {
     "outputs_hidden": false
    }
   },
   "outputs": [
    {
     "name": "stdout",
     "output_type": "stream",
     "text": [
      "                                 OLS Regression Results                                \n",
      "=======================================================================================\n",
      "Dep. Variable:                    2PA   R-squared (uncentered):                   0.931\n",
      "Model:                            OLS   Adj. R-squared (uncentered):              0.931\n",
      "Method:                 Least Squares   F-statistic:                          2.993e+04\n",
      "Date:                Thu, 02 Mar 2023   Prob (F-statistic):                        0.00\n",
      "Time:                        10:46:22   Log-Likelihood:                         -10176.\n",
      "No. Observations:                2206   AIC:                                  2.035e+04\n",
      "Df Residuals:                    2205   BIC:                                  2.036e+04\n",
      "Df Model:                           1                                                  \n",
      "Covariance Type:            nonrobust                                                  \n",
      "==============================================================================\n",
      "                 coef    std err          t      P>|t|      [0.025      0.975]\n",
      "------------------------------------------------------------------------------\n",
      "PTS            0.4738      0.003    173.009      0.000       0.468       0.479\n",
      "==============================================================================\n",
      "Omnibus:                      543.014   Durbin-Watson:                   1.935\n",
      "Prob(Omnibus):                  0.000   Jarque-Bera (JB):            11899.716\n",
      "Skew:                          -0.616   Prob(JB):                         0.00\n",
      "Kurtosis:                      14.311   Cond. No.                         1.00\n",
      "==============================================================================\n",
      "\n",
      "Notes:\n",
      "[1] R² is computed without centering (uncentered) since the model does not contain a constant.\n",
      "[2] Standard Errors assume that the covariance matrix of the errors is correctly specified.\n"
     ]
    }
   ],
   "source": [
    "X = df2['2PA']\n",
    "y = df2['PTS']\n",
    "model = sm.OLS(X,y).fit()\n",
    "print(model.summary())"
   ]
  },
  {
   "cell_type": "markdown",
   "metadata": {},
   "source": [
    "Ok, and train R2 of .931 and a P of 0.  This looks to be a solid fit.  Lets try cross fold validation.\n",
    "\n"
   ]
  },
  {
   "cell_type": "code",
   "execution_count": 201,
   "metadata": {
    "collapsed": false,
    "jupyter": {
     "outputs_hidden": false
    }
   },
   "outputs": [
    {
     "name": "stdout",
     "output_type": "stream",
     "text": [
      "3 way cross validation test error: 0.7822478032977601\n"
     ]
    }
   ],
   "source": [
    "X = np.array(X).reshape(-1,1)\n",
    "y = np.array(y).reshape(-1,1)\n",
    "model = LinearRegression().fit(X,y)\n",
    "nfd = sklearn.model_selection.cross_validate(model, X, y = y, cv = 3)\n",
    "print(\"3 way cross validation test error: \" + str(np.mean(nfd['test_score'])))\n",
    "nfd = None"
   ]
  },
  {
   "cell_type": "markdown",
   "metadata": {
    "jupyter": {
     "outputs_hidden": false
    }
   },
   "source": [
    "78 Percent coorlation for the singe model prediction.  Thats not bad.  Nexe I chose to do a stepwise regression.  I used the sklearn.feature_selection.RFE model which performs greedy backward stepwise regression to a given value.  I will be excluding field goals again as it would skew the model and not give a good demo of learning."
   ]
  },
  {
   "cell_type": "code",
   "execution_count": 202,
   "metadata": {},
   "outputs": [
    {
     "name": "stdout",
     "output_type": "stream",
     "text": [
      "Name: G Ranking: 5\n",
      "Name: GS Ranking: 12\n",
      "Name: MP Ranking: 20\n",
      "Name: FG Ranking: 14\n",
      "Name: FGA Ranking: 9\n",
      "Name: FGP Ranking: 1\n",
      "Name: 3P Ranking: 2\n",
      "Name: 3PA Ranking: 8\n",
      "Name: 3PP Ranking: 1\n",
      "Name: 2P Ranking: 3\n",
      "Name: 2PA Ranking: 6\n",
      "Name: 2PP Ranking: 1\n",
      "Name: eFGP Ranking: 1\n",
      "Name: FT Ranking: 4\n",
      "Name: FTA Ranking: 19\n",
      "Name: FTP Ranking: 1\n",
      "Name: ORB Ranking: 11\n",
      "Name: DRB Ranking: 10\n",
      "Name: TRB Ranking: 7\n",
      "Name: AST Ranking: 16\n",
      "Name: STL Ranking: 13\n",
      "Name: BLK Ranking: 17\n",
      "Name: TOV Ranking: 15\n",
      "Name: PF Ranking: 18\n",
      "3 way cross validation test error: -3.217432678990708\n",
      "3 way cross validation test error for top 1 predictors  is -3.320587874260514\n",
      "3 way cross validation test error for top 2 predictors  is -3.096894535612084\n",
      "3 way cross validation test error for top 3 predictors  is -2.7218090106543094\n",
      "3 way cross validation test error for top 4 predictors  is -2.800768193505514\n",
      "3 way cross validation test error for top 5 predictors  is -3.2174326789907077\n",
      "3 way cross validation test error for top 6 predictors  is -0.16963901802927164\n",
      "3 way cross validation test error for top 7 predictors  is 0.989221784373609\n",
      "3 way cross validation test error for top 8 predictors  is 0.9913070566859151\n",
      "3 way cross validation test error for top 9 predictors  is 0.9917099067214025\n",
      "3 way cross validation test error for top 10 predictors  is 0.9916884609275449\n",
      "3 way cross validation test error for top 11 predictors  is 0.9916246617144289\n",
      "3 way cross validation test error for top 12 predictors  is 0.9916150184037483\n",
      "3 way cross validation test error for top 13 predictors  is 0.9916049403227912\n",
      "3 way cross validation test error for top 14 predictors  is 0.9915773427565823\n",
      "3 way cross validation test error for top 15 predictors  is 0.9915500841984208\n",
      "3 way cross validation test error for top 16 predictors  is 0.9915617741673876\n",
      "3 way cross validation test error for top 17 predictors  is 0.9916192871134365\n",
      "3 way cross validation test error for top 18 predictors  is -8.159947196662642e+16\n",
      "3 way cross validation test error for top 19 predictors  is -3.104180709616674e+16\n"
     ]
    }
   ],
   "source": [
    "X = df2.drop(['PTS','Player', 'Tm', 'Age'] , axis = 1)\n",
    "y = df2['PTS']\n",
    "model = LinearRegression().fit(X,y)\n",
    "nfd = RFE(model, n_features_to_select = 5).fit(X,y)\n",
    "z = [print(\"Name: \" + str(feature) + \" Ranking: \" + str(ranking)) for feature, ranking in zip(nfd.feature_names_in_, nfd.ranking_)]\n",
    "features = pd.DataFrame({\"Name\": list(nfd.feature_names_in_),\"Ranking\": list(nfd.ranking_)})\n",
    "features = (features.sort_values('Ranking'))\n",
    "X = df2[features[0:5]['Name']]\n",
    "model = LinearRegression().fit(X,y)\n",
    "nfd = sklearn.model_selection.cross_validate(model, X, y = y, cv = 3)\n",
    "\n",
    "print(\"3 way cross validation test error: \" + str(np.mean(nfd['test_score'])))\n",
    "nfd = None\n",
    "train = []\n",
    "test = []\n",
    "\n",
    "for n in range(1,20):\n",
    "    df2 = df[df['Age'].isnull() == False]\n",
    "    X = df2.drop(['PTS','Player', 'Tm'] , axis = 1)\n",
    "    y = df2['PTS']\n",
    "    model = LinearRegression().fit(X,y)\n",
    "    nfd = RFE(model, n_features_to_select = n).fit(X,y)\n",
    "    features = pd.DataFrame({\"Name\": list(nfd.feature_names_in_),\"Ranking\": list(nfd.ranking_)})\n",
    "    features = (features.sort_values('Ranking'))\n",
    "    X = df2[features[0:n]['Name']]\n",
    "    model = LinearRegression().fit(X,y)\n",
    "    nfd = sklearn.model_selection.cross_validate(model, X, y = y, cv = 3, return_train_score = True)\n",
    "    print(\"3 way cross validation test error for top \" + str(n) + \" predictors  is \" + str(np.mean(nfd['test_score'])))\n"
   ]
  },
  {
   "cell_type": "markdown",
   "metadata": {},
   "source": [
    "This shows that a model with the top 5 predictors of (3 point %, #3pt shots sunk, # of 2pt shots sunk, FT, and # of games played.  I then looked at what happens with 1-20 variables.  The model does exceptionally well using 7 predictors but the test error goes wonky sometimes.  Finally, due to the garbage score numbers, I am forgoing the graph of the scores.\n",
    "\n",
    "Finally, just to finish this off, I chose to test a KNN algorithim.  This algorithim suffers greatly from the curse of dimmentionality and I'm giving it 20 varibles.  I will iterate through using 3 fold cross validation.\n",
    "\n",
    "Please just scroll through the errors, they are just nusance, but the model works normally."
   ]
  },
  {
   "cell_type": "code",
   "execution_count": 203,
   "metadata": {},
   "outputs": [
    {
     "name": "stderr",
     "output_type": "stream",
     "text": [
      "C:\\Users\\isaac\\anaconda3\\lib\\site-packages\\sklearn\\model_selection\\_split.py:676: UserWarning: The least populated class in y has only 1 members, which is less than n_splits=3.\n",
      "  warnings.warn(\n",
      "C:\\Users\\isaac\\anaconda3\\lib\\site-packages\\sklearn\\model_selection\\_split.py:676: UserWarning: The least populated class in y has only 1 members, which is less than n_splits=3.\n",
      "  warnings.warn(\n",
      "C:\\Users\\isaac\\anaconda3\\lib\\site-packages\\sklearn\\model_selection\\_split.py:676: UserWarning: The least populated class in y has only 1 members, which is less than n_splits=3.\n",
      "  warnings.warn(\n",
      "C:\\Users\\isaac\\anaconda3\\lib\\site-packages\\sklearn\\model_selection\\_split.py:676: UserWarning: The least populated class in y has only 1 members, which is less than n_splits=3.\n",
      "  warnings.warn(\n",
      "C:\\Users\\isaac\\anaconda3\\lib\\site-packages\\sklearn\\model_selection\\_split.py:676: UserWarning: The least populated class in y has only 1 members, which is less than n_splits=3.\n",
      "  warnings.warn(\n",
      "C:\\Users\\isaac\\anaconda3\\lib\\site-packages\\sklearn\\model_selection\\_split.py:676: UserWarning: The least populated class in y has only 1 members, which is less than n_splits=3.\n",
      "  warnings.warn(\n",
      "C:\\Users\\isaac\\anaconda3\\lib\\site-packages\\sklearn\\model_selection\\_split.py:676: UserWarning: The least populated class in y has only 1 members, which is less than n_splits=3.\n",
      "  warnings.warn(\n",
      "C:\\Users\\isaac\\anaconda3\\lib\\site-packages\\sklearn\\model_selection\\_split.py:676: UserWarning: The least populated class in y has only 1 members, which is less than n_splits=3.\n",
      "  warnings.warn(\n",
      "C:\\Users\\isaac\\anaconda3\\lib\\site-packages\\sklearn\\model_selection\\_split.py:676: UserWarning: The least populated class in y has only 1 members, which is less than n_splits=3.\n",
      "  warnings.warn(\n",
      "C:\\Users\\isaac\\anaconda3\\lib\\site-packages\\sklearn\\model_selection\\_split.py:676: UserWarning: The least populated class in y has only 1 members, which is less than n_splits=3.\n",
      "  warnings.warn(\n",
      "C:\\Users\\isaac\\anaconda3\\lib\\site-packages\\sklearn\\model_selection\\_split.py:676: UserWarning: The least populated class in y has only 1 members, which is less than n_splits=3.\n",
      "  warnings.warn(\n",
      "C:\\Users\\isaac\\anaconda3\\lib\\site-packages\\sklearn\\model_selection\\_split.py:676: UserWarning: The least populated class in y has only 1 members, which is less than n_splits=3.\n",
      "  warnings.warn(\n",
      "C:\\Users\\isaac\\anaconda3\\lib\\site-packages\\sklearn\\model_selection\\_split.py:676: UserWarning: The least populated class in y has only 1 members, which is less than n_splits=3.\n",
      "  warnings.warn(\n",
      "C:\\Users\\isaac\\anaconda3\\lib\\site-packages\\sklearn\\model_selection\\_split.py:676: UserWarning: The least populated class in y has only 1 members, which is less than n_splits=3.\n",
      "  warnings.warn(\n",
      "C:\\Users\\isaac\\anaconda3\\lib\\site-packages\\sklearn\\model_selection\\_split.py:676: UserWarning: The least populated class in y has only 1 members, which is less than n_splits=3.\n",
      "  warnings.warn(\n",
      "C:\\Users\\isaac\\anaconda3\\lib\\site-packages\\sklearn\\model_selection\\_split.py:676: UserWarning: The least populated class in y has only 1 members, which is less than n_splits=3.\n",
      "  warnings.warn(\n",
      "C:\\Users\\isaac\\anaconda3\\lib\\site-packages\\sklearn\\model_selection\\_split.py:676: UserWarning: The least populated class in y has only 1 members, which is less than n_splits=3.\n",
      "  warnings.warn(\n",
      "C:\\Users\\isaac\\anaconda3\\lib\\site-packages\\sklearn\\model_selection\\_split.py:676: UserWarning: The least populated class in y has only 1 members, which is less than n_splits=3.\n",
      "  warnings.warn(\n",
      "C:\\Users\\isaac\\anaconda3\\lib\\site-packages\\sklearn\\model_selection\\_split.py:676: UserWarning: The least populated class in y has only 1 members, which is less than n_splits=3.\n",
      "  warnings.warn(\n",
      "C:\\Users\\isaac\\anaconda3\\lib\\site-packages\\sklearn\\model_selection\\_split.py:676: UserWarning: The least populated class in y has only 1 members, which is less than n_splits=3.\n",
      "  warnings.warn(\n",
      "C:\\Users\\isaac\\anaconda3\\lib\\site-packages\\sklearn\\model_selection\\_split.py:676: UserWarning: The least populated class in y has only 1 members, which is less than n_splits=3.\n",
      "  warnings.warn(\n",
      "C:\\Users\\isaac\\anaconda3\\lib\\site-packages\\sklearn\\model_selection\\_split.py:676: UserWarning: The least populated class in y has only 1 members, which is less than n_splits=3.\n",
      "  warnings.warn(\n",
      "C:\\Users\\isaac\\anaconda3\\lib\\site-packages\\sklearn\\model_selection\\_split.py:676: UserWarning: The least populated class in y has only 1 members, which is less than n_splits=3.\n",
      "  warnings.warn(\n",
      "C:\\Users\\isaac\\anaconda3\\lib\\site-packages\\sklearn\\model_selection\\_split.py:676: UserWarning: The least populated class in y has only 1 members, which is less than n_splits=3.\n",
      "  warnings.warn(\n",
      "C:\\Users\\isaac\\anaconda3\\lib\\site-packages\\sklearn\\model_selection\\_split.py:676: UserWarning: The least populated class in y has only 1 members, which is less than n_splits=3.\n",
      "  warnings.warn(\n",
      "C:\\Users\\isaac\\anaconda3\\lib\\site-packages\\sklearn\\model_selection\\_split.py:676: UserWarning: The least populated class in y has only 1 members, which is less than n_splits=3.\n",
      "  warnings.warn(\n",
      "C:\\Users\\isaac\\anaconda3\\lib\\site-packages\\sklearn\\model_selection\\_split.py:676: UserWarning: The least populated class in y has only 1 members, which is less than n_splits=3.\n",
      "  warnings.warn(\n",
      "C:\\Users\\isaac\\anaconda3\\lib\\site-packages\\sklearn\\model_selection\\_split.py:676: UserWarning: The least populated class in y has only 1 members, which is less than n_splits=3.\n",
      "  warnings.warn(\n",
      "C:\\Users\\isaac\\anaconda3\\lib\\site-packages\\sklearn\\model_selection\\_split.py:676: UserWarning: The least populated class in y has only 1 members, which is less than n_splits=3.\n",
      "  warnings.warn(\n"
     ]
    },
    {
     "data": {
      "text/plain": [
       "Text(0.5, 1.0, 'Test Error')"
      ]
     },
     "execution_count": 203,
     "metadata": {},
     "output_type": "execute_result"
    },
    {
     "data": {
      "image/png": "[encoded data removed]",
      "text/plain": [
       "<Figure size 640x480 with 1 Axes>"
      ]
     },
     "metadata": {},
     "output_type": "display_data"
    }
   ],
   "source": [
    "X = df2.drop(['PTS','Player', 'Tm', 'Age'] , axis = 1)\n",
    "y = df2['PTS']\n",
    "train = []\n",
    "test = []\n",
    "for n in range(1,30):\n",
    "    model = KNN(n_neighbors = n)\n",
    "    nfd = sklearn.model_selection.cross_validate(model, X, y = y, cv = 3, return_train_score = True)\n",
    "    #print(str(n) + \" Nearest Nieghbors gives \" + str(np.mean(nfd['test_score'])) + \" test error\")\n",
    "    train.append(np.mean(nfd['train_score']))\n",
    "    test.append(np.mean(nfd['test_score']))\n",
    "\n",
    "plot = plt.plot(train)\n",
    "plt.xlabel(\"Num of Neighbors\")\n",
    "plt.ylabel(\"Error\")\n",
    "plt.title(\"Train Error\")\n",
    "plot2 =  plt.plot(test)\n",
    "plt.xlabel(\"Num of Neighbors\")\n",
    "plt.ylabel(\"Error\")\n",
    "plt.title(\"Test Error\")"
   ]
  },
  {
   "cell_type": "markdown",
   "metadata": {},
   "source": [
    "As you can see with the multitude of future problem warnings, the KNN algorithim did poorly in test errors, but did steadily badly.  There are 2 things that can be done to improve the performance of KNN. Scaling and dimmension reduction.  I reduce the dimmensions to 5."
   ]
  },
  {
   "cell_type": "code",
   "execution_count": 204,
   "metadata": {},
   "outputs": [
    {
     "name": "stderr",
     "output_type": "stream",
     "text": [
      "C:\\Users\\isaac\\anaconda3\\lib\\site-packages\\sklearn\\model_selection\\_split.py:676: UserWarning: The least populated class in y has only 1 members, which is less than n_splits=3.\n",
      "  warnings.warn(\n",
      "C:\\Users\\isaac\\anaconda3\\lib\\site-packages\\sklearn\\model_selection\\_split.py:676: UserWarning: The least populated class in y has only 1 members, which is less than n_splits=3.\n",
      "  warnings.warn(\n",
      "C:\\Users\\isaac\\anaconda3\\lib\\site-packages\\sklearn\\model_selection\\_split.py:676: UserWarning: The least populated class in y has only 1 members, which is less than n_splits=3.\n",
      "  warnings.warn(\n",
      "C:\\Users\\isaac\\anaconda3\\lib\\site-packages\\sklearn\\model_selection\\_split.py:676: UserWarning: The least populated class in y has only 1 members, which is less than n_splits=3.\n",
      "  warnings.warn(\n",
      "C:\\Users\\isaac\\anaconda3\\lib\\site-packages\\sklearn\\model_selection\\_split.py:676: UserWarning: The least populated class in y has only 1 members, which is less than n_splits=3.\n",
      "  warnings.warn(\n",
      "C:\\Users\\isaac\\anaconda3\\lib\\site-packages\\sklearn\\model_selection\\_split.py:676: UserWarning: The least populated class in y has only 1 members, which is less than n_splits=3.\n",
      "  warnings.warn(\n",
      "C:\\Users\\isaac\\anaconda3\\lib\\site-packages\\sklearn\\model_selection\\_split.py:676: UserWarning: The least populated class in y has only 1 members, which is less than n_splits=3.\n",
      "  warnings.warn(\n",
      "C:\\Users\\isaac\\anaconda3\\lib\\site-packages\\sklearn\\model_selection\\_split.py:676: UserWarning: The least populated class in y has only 1 members, which is less than n_splits=3.\n",
      "  warnings.warn(\n",
      "C:\\Users\\isaac\\anaconda3\\lib\\site-packages\\sklearn\\model_selection\\_split.py:676: UserWarning: The least populated class in y has only 1 members, which is less than n_splits=3.\n",
      "  warnings.warn(\n",
      "C:\\Users\\isaac\\anaconda3\\lib\\site-packages\\sklearn\\model_selection\\_split.py:676: UserWarning: The least populated class in y has only 1 members, which is less than n_splits=3.\n",
      "  warnings.warn(\n",
      "C:\\Users\\isaac\\anaconda3\\lib\\site-packages\\sklearn\\model_selection\\_split.py:676: UserWarning: The least populated class in y has only 1 members, which is less than n_splits=3.\n",
      "  warnings.warn(\n",
      "C:\\Users\\isaac\\anaconda3\\lib\\site-packages\\sklearn\\model_selection\\_split.py:676: UserWarning: The least populated class in y has only 1 members, which is less than n_splits=3.\n",
      "  warnings.warn(\n",
      "C:\\Users\\isaac\\anaconda3\\lib\\site-packages\\sklearn\\model_selection\\_split.py:676: UserWarning: The least populated class in y has only 1 members, which is less than n_splits=3.\n",
      "  warnings.warn(\n",
      "C:\\Users\\isaac\\anaconda3\\lib\\site-packages\\sklearn\\model_selection\\_split.py:676: UserWarning: The least populated class in y has only 1 members, which is less than n_splits=3.\n",
      "  warnings.warn(\n",
      "C:\\Users\\isaac\\anaconda3\\lib\\site-packages\\sklearn\\model_selection\\_split.py:676: UserWarning: The least populated class in y has only 1 members, which is less than n_splits=3.\n",
      "  warnings.warn(\n",
      "C:\\Users\\isaac\\anaconda3\\lib\\site-packages\\sklearn\\model_selection\\_split.py:676: UserWarning: The least populated class in y has only 1 members, which is less than n_splits=3.\n",
      "  warnings.warn(\n",
      "C:\\Users\\isaac\\anaconda3\\lib\\site-packages\\sklearn\\model_selection\\_split.py:676: UserWarning: The least populated class in y has only 1 members, which is less than n_splits=3.\n",
      "  warnings.warn(\n",
      "C:\\Users\\isaac\\anaconda3\\lib\\site-packages\\sklearn\\model_selection\\_split.py:676: UserWarning: The least populated class in y has only 1 members, which is less than n_splits=3.\n",
      "  warnings.warn(\n",
      "C:\\Users\\isaac\\anaconda3\\lib\\site-packages\\sklearn\\model_selection\\_split.py:676: UserWarning: The least populated class in y has only 1 members, which is less than n_splits=3.\n",
      "  warnings.warn(\n",
      "C:\\Users\\isaac\\anaconda3\\lib\\site-packages\\sklearn\\model_selection\\_split.py:676: UserWarning: The least populated class in y has only 1 members, which is less than n_splits=3.\n",
      "  warnings.warn(\n",
      "C:\\Users\\isaac\\anaconda3\\lib\\site-packages\\sklearn\\model_selection\\_split.py:676: UserWarning: The least populated class in y has only 1 members, which is less than n_splits=3.\n",
      "  warnings.warn(\n",
      "C:\\Users\\isaac\\anaconda3\\lib\\site-packages\\sklearn\\model_selection\\_split.py:676: UserWarning: The least populated class in y has only 1 members, which is less than n_splits=3.\n",
      "  warnings.warn(\n",
      "C:\\Users\\isaac\\anaconda3\\lib\\site-packages\\sklearn\\model_selection\\_split.py:676: UserWarning: The least populated class in y has only 1 members, which is less than n_splits=3.\n",
      "  warnings.warn(\n",
      "C:\\Users\\isaac\\anaconda3\\lib\\site-packages\\sklearn\\model_selection\\_split.py:676: UserWarning: The least populated class in y has only 1 members, which is less than n_splits=3.\n",
      "  warnings.warn(\n",
      "C:\\Users\\isaac\\anaconda3\\lib\\site-packages\\sklearn\\model_selection\\_split.py:676: UserWarning: The least populated class in y has only 1 members, which is less than n_splits=3.\n",
      "  warnings.warn(\n",
      "C:\\Users\\isaac\\anaconda3\\lib\\site-packages\\sklearn\\model_selection\\_split.py:676: UserWarning: The least populated class in y has only 1 members, which is less than n_splits=3.\n",
      "  warnings.warn(\n",
      "C:\\Users\\isaac\\anaconda3\\lib\\site-packages\\sklearn\\model_selection\\_split.py:676: UserWarning: The least populated class in y has only 1 members, which is less than n_splits=3.\n",
      "  warnings.warn(\n",
      "C:\\Users\\isaac\\anaconda3\\lib\\site-packages\\sklearn\\model_selection\\_split.py:676: UserWarning: The least populated class in y has only 1 members, which is less than n_splits=3.\n",
      "  warnings.warn(\n",
      "C:\\Users\\isaac\\anaconda3\\lib\\site-packages\\sklearn\\model_selection\\_split.py:676: UserWarning: The least populated class in y has only 1 members, which is less than n_splits=3.\n",
      "  warnings.warn(\n"
     ]
    },
    {
     "data": {
      "text/plain": [
       "Text(0.5, 1.0, 'Test Error')"
      ]
     },
     "execution_count": 204,
     "metadata": {},
     "output_type": "execute_result"
    },
    {
     "data": {
      "image/png": "[encoded data removed]",
      "text/plain": [
       "<Figure size 640x480 with 1 Axes>"
      ]
     },
     "metadata": {},
     "output_type": "display_data"
    }
   ],
   "source": [
    "train = []\n",
    "test = []\n",
    "X = df2[['3PP', '3P', '2P', 'FT', 'G']]\n",
    "y = df2['PTS']\n",
    "for n in range(1,30):\n",
    "    model = KNN(n_neighbors = n)\n",
    "    nfd = sklearn.model_selection.cross_validate(model, X, y = y, cv = 3, return_train_score = True)\n",
    "    #print(str(n) + \" Nearest Nieghbors gives \" + str(np.mean(nfd['test_score'], keepdims = False)) + \" test error\")\n",
    "    train.append(np.mean(nfd['train_score']))\n",
    "    test.append(np.mean(nfd['test_score']))\n",
    "\n",
    "plot = plt.plot(train)\n",
    "plt.xlabel(\"Num of Neighbors\")\n",
    "plt.ylabel(\"Error\")\n",
    "plt.title(\"Train Error\")\n",
    "plot2 =  plt.plot(test)\n",
    "plt.xlabel(\"Num of Neighbors\")\n",
    "plt.ylabel(\"Error\")\n",
    "plt.title(\"Test Error\")"
   ]
  },
  {
   "cell_type": "markdown",
   "metadata": {},
   "source": [
    "This is an improvement in performance of the KNN Model. Cherry picking 5 models does help a bit, but the test error is still fairly abysmal with over 5 neighbors.."
   ]
  },
  {
   "cell_type": "markdown",
   "metadata": {},
   "source": [
    "In Conclusion, this parts of this data are very coorlated and linear.  I chose the data set at random and just ran with it.  I started with cleaning the data.  The data had 6 fields with NaN's in them.  I was able to coorlate 5 of the fields with another field and set the NaN's to 0.  Then I ended up throwing out the values from the remaining field that had NaN's in them.  I probalby should have just thrown out that column instead.  \n",
    "\n",
    "The Random Forrest model shows a 97% accuracy using the key predictors.  Single SVM shows 78% when using the tree to pick the best variable. Using a backward stepwise regression, I got 99.1% accuracy with 8 features.  More features after that didn't help.  And K Nearerst Nieghbors didnt get over 25% even when scaling and reducing the number of predictors.  Overall, this data had a few very strongly related predictors.  Thats what I get for randomly choosing a dataset and just running with it."
   ]
  }
 ],
 "metadata": {
  "kernelspec": {
   "display_name": "Python 3 (ipykernel)",
   "language": "python",
   "name": "python3"
  },
  "language_info": {
   "codemirror_mode": {
    "name": "ipython",
    "version": 3
   },
   "file_extension": ".py",
   "mimetype": "text/x-python",
   "name": "python",
   "nbconvert_exporter": "python",
   "pygments_lexer": "ipython3",
   "version": "3.8.13"
  }
 },
 "nbformat": 4,
 "nbformat_minor": 4
}
